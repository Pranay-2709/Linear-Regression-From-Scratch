{
 "cells": [
  {
   "cell_type": "markdown",
   "id": "03781507",
   "metadata": {},
   "source": [
    "  #  Linear Reg using Gradient Descent"
   ]
  },
  {
   "cell_type": "markdown",
   "id": "6f93ca0b",
   "metadata": {},
   "source": [
    "#### Libraries Used:"
   ]
  },
  {
   "cell_type": "code",
   "execution_count": 2,
   "id": "45e7e20a",
   "metadata": {},
   "outputs": [],
   "source": [
    "import pandas as pd\n",
    "import numpy as np\n",
    "import matplotlib.pyplot as plt"
   ]
  },
  {
   "cell_type": "markdown",
   "id": "73781bf8",
   "metadata": {},
   "source": [
    "----------------------------------"
   ]
  },
  {
   "cell_type": "markdown",
   "id": "07256ecf",
   "metadata": {},
   "source": [
    "#### Reading Data Using PANDAS \n",
    "Data source : **[Nhanes](https://wwwn.cdc.gov/Nchs/Nhanes/)**\n",
    "\n",
    "\n",
    "We will train our data on the first 1000 and data points and will test it on the next 200"
   ]
  },
  {
   "cell_type": "code",
   "execution_count": 51,
   "id": "0da991d4",
   "metadata": {},
   "outputs": [],
   "source": [
    "naval = ['NAN','Misssing','missing','MISSING']\n",
    "dx = pd.read_csv('survey_results_public.csv',na_values= naval)  \n",
    "schema_dx = pd.read_csv('survey_results_schema.csv', index_col='Column')\n",
    "filt = pd.isna(dx.WorkWeekHrs) | pd.isna(dx.ConvertedComp)    \n",
    "df = dx[-filt]\n",
    "da_train = df.head(800)\n",
    "da_test = df.iloc[801:1001]"
   ]
  },
  {
   "cell_type": "code",
   "execution_count": 52,
   "id": "1df673f7",
   "metadata": {},
   "outputs": [
    {
     "data": {
      "text/html": [
       "<div>\n",
       "<style scoped>\n",
       "    .dataframe tbody tr th:only-of-type {\n",
       "        vertical-align: middle;\n",
       "    }\n",
       "\n",
       "    .dataframe tbody tr th {\n",
       "        vertical-align: top;\n",
       "    }\n",
       "\n",
       "    .dataframe thead th {\n",
       "        text-align: right;\n",
       "    }\n",
       "</style>\n",
       "<table border=\"1\" class=\"dataframe\">\n",
       "  <thead>\n",
       "    <tr style=\"text-align: right;\">\n",
       "      <th></th>\n",
       "      <th>WorkWeekHrs</th>\n",
       "      <th>ConvertedComp</th>\n",
       "    </tr>\n",
       "  </thead>\n",
       "  <tbody>\n",
       "    <tr>\n",
       "      <th>7</th>\n",
       "      <td>39.0</td>\n",
       "      <td>116000.0</td>\n",
       "    </tr>\n",
       "    <tr>\n",
       "      <th>9</th>\n",
       "      <td>36.0</td>\n",
       "      <td>32315.0</td>\n",
       "    </tr>\n",
       "    <tr>\n",
       "      <th>10</th>\n",
       "      <td>40.0</td>\n",
       "      <td>40070.0</td>\n",
       "    </tr>\n",
       "    <tr>\n",
       "      <th>11</th>\n",
       "      <td>40.0</td>\n",
       "      <td>14268.0</td>\n",
       "    </tr>\n",
       "    <tr>\n",
       "      <th>12</th>\n",
       "      <td>36.0</td>\n",
       "      <td>38916.0</td>\n",
       "    </tr>\n",
       "    <tr>\n",
       "      <th>13</th>\n",
       "      <td>40.0</td>\n",
       "      <td>66000.0</td>\n",
       "    </tr>\n",
       "    <tr>\n",
       "      <th>15</th>\n",
       "      <td>50.0</td>\n",
       "      <td>108576.0</td>\n",
       "    </tr>\n",
       "    <tr>\n",
       "      <th>16</th>\n",
       "      <td>40.0</td>\n",
       "      <td>79000.0</td>\n",
       "    </tr>\n",
       "    <tr>\n",
       "      <th>17</th>\n",
       "      <td>45.0</td>\n",
       "      <td>1260000.0</td>\n",
       "    </tr>\n",
       "    <tr>\n",
       "      <th>18</th>\n",
       "      <td>35.0</td>\n",
       "      <td>83400.0</td>\n",
       "    </tr>\n",
       "  </tbody>\n",
       "</table>\n",
       "</div>"
      ],
      "text/plain": [
       "    WorkWeekHrs  ConvertedComp\n",
       "7          39.0       116000.0\n",
       "9          36.0        32315.0\n",
       "10         40.0        40070.0\n",
       "11         40.0        14268.0\n",
       "12         36.0        38916.0\n",
       "13         40.0        66000.0\n",
       "15         50.0       108576.0\n",
       "16         40.0        79000.0\n",
       "17         45.0      1260000.0\n",
       "18         35.0        83400.0"
      ]
     },
     "execution_count": 52,
     "metadata": {},
     "output_type": "execute_result"
    }
   ],
   "source": [
    "da_train.loc[:,(\"WorkWeekHrs\",\"ConvertedComp\")].head(10)"
   ]
  },
  {
   "cell_type": "code",
   "execution_count": 53,
   "id": "d7723309",
   "metadata": {},
   "outputs": [
    {
     "data": {
      "text/html": [
       "<div>\n",
       "<style scoped>\n",
       "    .dataframe tbody tr th:only-of-type {\n",
       "        vertical-align: middle;\n",
       "    }\n",
       "\n",
       "    .dataframe tbody tr th {\n",
       "        vertical-align: top;\n",
       "    }\n",
       "\n",
       "    .dataframe thead th {\n",
       "        text-align: right;\n",
       "    }\n",
       "</style>\n",
       "<table border=\"1\" class=\"dataframe\">\n",
       "  <thead>\n",
       "    <tr style=\"text-align: right;\">\n",
       "      <th></th>\n",
       "      <th>WorkWeekHrs</th>\n",
       "      <th>ConvertedComp</th>\n",
       "    </tr>\n",
       "  </thead>\n",
       "  <tbody>\n",
       "    <tr>\n",
       "      <th>1214</th>\n",
       "      <td>45.0</td>\n",
       "      <td>165000.0</td>\n",
       "    </tr>\n",
       "    <tr>\n",
       "      <th>1215</th>\n",
       "      <td>40.0</td>\n",
       "      <td>1000000.0</td>\n",
       "    </tr>\n",
       "    <tr>\n",
       "      <th>1216</th>\n",
       "      <td>60.0</td>\n",
       "      <td>137000.0</td>\n",
       "    </tr>\n",
       "    <tr>\n",
       "      <th>1217</th>\n",
       "      <td>37.5</td>\n",
       "      <td>163368.0</td>\n",
       "    </tr>\n",
       "    <tr>\n",
       "      <th>1219</th>\n",
       "      <td>55.0</td>\n",
       "      <td>220000.0</td>\n",
       "    </tr>\n",
       "    <tr>\n",
       "      <th>...</th>\n",
       "      <td>...</td>\n",
       "      <td>...</td>\n",
       "    </tr>\n",
       "    <tr>\n",
       "      <th>1516</th>\n",
       "      <td>35.0</td>\n",
       "      <td>124000.0</td>\n",
       "    </tr>\n",
       "    <tr>\n",
       "      <th>1517</th>\n",
       "      <td>35.0</td>\n",
       "      <td>230000.0</td>\n",
       "    </tr>\n",
       "    <tr>\n",
       "      <th>1518</th>\n",
       "      <td>40.0</td>\n",
       "      <td>55000.0</td>\n",
       "    </tr>\n",
       "    <tr>\n",
       "      <th>1520</th>\n",
       "      <td>54.0</td>\n",
       "      <td>5028.0</td>\n",
       "    </tr>\n",
       "    <tr>\n",
       "      <th>1521</th>\n",
       "      <td>60.0</td>\n",
       "      <td>108000.0</td>\n",
       "    </tr>\n",
       "  </tbody>\n",
       "</table>\n",
       "<p>200 rows × 2 columns</p>\n",
       "</div>"
      ],
      "text/plain": [
       "      WorkWeekHrs  ConvertedComp\n",
       "1214         45.0       165000.0\n",
       "1215         40.0      1000000.0\n",
       "1216         60.0       137000.0\n",
       "1217         37.5       163368.0\n",
       "1219         55.0       220000.0\n",
       "...           ...            ...\n",
       "1516         35.0       124000.0\n",
       "1517         35.0       230000.0\n",
       "1518         40.0        55000.0\n",
       "1520         54.0         5028.0\n",
       "1521         60.0       108000.0\n",
       "\n",
       "[200 rows x 2 columns]"
      ]
     },
     "execution_count": 53,
     "metadata": {},
     "output_type": "execute_result"
    }
   ],
   "source": [
    "da_test.loc[:,(\"WorkWeekHrs\",\"ConvertedComp\")]"
   ]
  },
  {
   "cell_type": "code",
   "execution_count": 59,
   "id": "2345357a",
   "metadata": {},
   "outputs": [
    {
     "name": "stdout",
     "output_type": "stream",
     "text": [
      "X is On average, how many hours per week do you work? Please enter a whole number in the box.\n",
      "Y is Salary converted to annual USD salaries using the exchange rate on 2020-02-19, assuming 12 working months and 50 working weeks.\n",
      "Our Hypothesis will be : H(theta) = theta[0] + X*theta[1]\n"
     ]
    }
   ],
   "source": [
    "X = schema_dx.loc['WorkWeekHrs']\n",
    "Y = schema_dx.loc['ConvertedComp']\n",
    "print(f'X is {X[0]}')\n",
    "print(f'Y is {Y[0]}')\n",
    "print(\"Our Hypothesis will be : H(theta) = theta[0] + X*theta[1]\")"
   ]
  },
  {
   "cell_type": "markdown",
   "id": "00b1528d",
   "metadata": {},
   "source": [
    "**Checking for NULL VALUES**"
   ]
  },
  {
   "cell_type": "code",
   "execution_count": 60,
   "id": "3dd2d305",
   "metadata": {},
   "outputs": [
    {
     "name": "stdout",
     "output_type": "stream",
     "text": [
      "(800, 800)\n"
     ]
    }
   ],
   "source": [
    "print(f'{len(da_train.WorkWeekHrs),len(da_train.ConvertedComp)}')"
   ]
  },
  {
   "cell_type": "markdown",
   "id": "2898cb4f",
   "metadata": {},
   "source": [
    "## Defining Function for computing cost and calculation our parameter theta"
   ]
  },
  {
   "cell_type": "code",
   "execution_count": 61,
   "id": "7d0e7cbc",
   "metadata": {},
   "outputs": [],
   "source": [
    "def comp_cost(in_var,out_var,par):\n",
    "######FOR COMPUTING COST FUNCTION######\n",
    "    m=len(in_var)\n",
    "    cost_sum=0\n",
    "    for x,y in zip(in_var,out_var):\n",
    "        h = np.dot(par,np.array([1,x]))\n",
    "        cost_sum += (h-y)**2\n",
    " \n",
    "    cost = cost_sum/(2*m)\n",
    "\n",
    "    return cost\n",
    "\n",
    "\n",
    "def grad(in_var,out_var,par,alpha,max_it): \n",
    "########VECTORIZE IMPLEMENTATION OF Gradient Descent##############\n",
    "    m=len(in_var) \n",
    "    cost_store = np.zeros(max_it)\n",
    "    X = np.array([np.ones(m),in_var])\n",
    "    i_store = np.zeros(max_it)\n",
    "    print(\"INITIALIZING___\")\n",
    "    for i in range(max_it):\n",
    "        h = np.dot(par,X)\n",
    "        gradient = np.dot((h - out_var),np.transpose(X)) \n",
    "        par = par - (alpha/m)*gradient\n",
    "        cost_store[i] = comp_cost(in_var,out_var,par)\n",
    "        i_store[i] = i\n",
    "      \n",
    "    plt.plot(i_store,cost_store)  \n",
    "    plt.ylabel('Cost')\n",
    "    plt.xlabel('EPOCHS --> ')\n",
    "    plt.show()\n",
    "    print(f'Parameter Vector :: {par} cost :: {cost_store[max_it-1]} ') \n",
    "    return par,cost_store,i_store        "
   ]
  },
  {
   "cell_type": "markdown",
   "id": "1742b27a",
   "metadata": {},
   "source": [
    "# Training our Model"
   ]
  },
  {
   "cell_type": "code",
   "execution_count": 64,
   "id": "2368f793",
   "metadata": {},
   "outputs": [
    {
     "name": "stdout",
     "output_type": "stream",
     "text": [
      "INITIALIZING___\n"
     ]
    },
    {
     "data": {
      "image/png": "[encoded data removed]",
      "text/plain": [
       "<Figure size 432x288 with 1 Axes>"
      ]
     },
     "metadata": {
      "needs_background": "light"
     },
     "output_type": "display_data"
    },
    {
     "name": "stdout",
     "output_type": "stream",
     "text": [
      "Parameter Vector :: [7676.35465269 3361.6629347 ] cost :: 44179744790.071945 \n"
     ]
    }
   ],
   "source": [
    "mit = 5000\n",
    "thetaC = np.array([0,0])\n",
    "a = 0.001\n",
    "theta,ts,ist= grad(da_train.WorkWeekHrs,da_train.ConvertedComp,thetaC,a,mit)"
   ]
  },
  {
   "cell_type": "code",
   "execution_count": 65,
   "id": "c41193ab",
   "metadata": {},
   "outputs": [
    {
     "name": "stdout",
     "output_type": "stream",
     "text": [
      "Our parameter vector is [7676.35465269 3361.6629347 ]\n"
     ]
    }
   ],
   "source": [
    "print(f'Our parameter vector is {theta}')"
   ]
  },
  {
   "cell_type": "markdown",
   "id": "7aa43166",
   "metadata": {},
   "source": [
    "### PLOTING OUR REGRESSION LINE"
   ]
  },
  {
   "cell_type": "code",
   "execution_count": 93,
   "id": "11cfb2aa",
   "metadata": {
    "scrolled": false
   },
   "outputs": [
    {
     "data": {
      "image/png": "[encoded data removed]",
      "text/plain": [
       "<Figure size 432x288 with 1 Axes>"
      ]
     },
     "metadata": {
      "needs_background": "light"
     },
     "output_type": "display_data"
    }
   ],
   "source": [
    "plt.scatter(da_train.WorkWeekHrs,da_train.ConvertedComp)\n",
    "plt.plot(da_test.WorkWeekHrs,theta[0] + theta[1]*da_test.WorkWeekHrs,'g')\n",
    "# plt.plot(da_test.BPXSY1,theta[0] + theta[1]*da_test.BPXSY1,'g')\n",
    "plt.show()"
   ]
  },
  {
   "cell_type": "markdown",
   "id": "33ac1d8f",
   "metadata": {},
   "source": [
    "# COMPARING OUR MODEL WITH SkLEARN'S MODEL"
   ]
  },
  {
   "cell_type": "code",
   "execution_count": 67,
   "id": "616d29e1",
   "metadata": {},
   "outputs": [],
   "source": [
    "from sklearn.model_selection import train_test_split as splt\n",
    "from sklearn.linear_model import LinearRegression as lin_reg\n",
    "from sklearn.metrics import classification_report as report"
   ]
  },
  {
   "cell_type": "code",
   "execution_count": 68,
   "id": "e269af29",
   "metadata": {},
   "outputs": [],
   "source": [
    "x_train,x_test,y_train,y_test = splt(da_train.WorkWeekHrs.head(1000),da_train.ConvertedComp.head(1000),test_size=0.20)"
   ]
  },
  {
   "cell_type": "code",
   "execution_count": 79,
   "id": "cceb2fa8",
   "metadata": {
    "scrolled": true
   },
   "outputs": [
    {
     "name": "stdout",
     "output_type": "stream",
     "text": [
      "3161.572416015633\n",
      "[25129.63051387]\n"
     ]
    }
   ],
   "source": [
    "lg = lin_reg()\n",
    "lg.fit(x_train.values.reshape(-1,1),y_train.dropna().values.reshape(-1,1))\n",
    "\n",
    "print(lg.coef_[0][0])\n",
    "print(lg.intercept_)"
   ]
  },
  {
   "cell_type": "code",
   "execution_count": 70,
   "id": "2d5af656",
   "metadata": {},
   "outputs": [],
   "source": [
    "y_pred = lg.predict(x_test.values.reshape(-1,1))"
   ]
  },
  {
   "cell_type": "code",
   "execution_count": 94,
   "id": "922bf973",
   "metadata": {},
   "outputs": [
    {
     "data": {
      "text/plain": [
       "[<matplotlib.lines.Line2D at 0x79ce4b2340>]"
      ]
     },
     "execution_count": 94,
     "metadata": {},
     "output_type": "execute_result"
    },
    {
     "data": {
      "image/png": "[encoded data removed]",
      "text/plain": [
       "<Figure size 432x288 with 1 Axes>"
      ]
     },
     "metadata": {
      "needs_background": "light"
     },
     "output_type": "display_data"
    }
   ],
   "source": [
    "plt.scatter(x_train,y_train)\n",
    "plt.plot(x_test,lg.intercept_[0] + lg.coef_[0][0]*x_test,'g')"
   ]
  }
 ],
 "metadata": {
  "kernelspec": {
   "display_name": "Python 3",
   "language": "python",
   "name": "python3"
  },
  "language_info": {
   "codemirror_mode": {
    "name": "ipython",
    "version": 3
   },
   "file_extension": ".py",
   "mimetype": "text/x-python",
   "name": "python",
   "nbconvert_exporter": "python",
   "pygments_lexer": "ipython3",
   "version": "3.8.8"
  }
 },
 "nbformat": 4,
 "nbformat_minor": 5
}
